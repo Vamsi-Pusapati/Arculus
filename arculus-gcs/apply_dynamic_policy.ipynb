{
 "cells": [
  {
   "cell_type": "code",
   "execution_count": 6,
   "metadata": {},
   "outputs": [
    {
     "name": "stdout",
     "output_type": "stream",
     "text": [
      "C:\\Users\\Reddy\\AppData\\Local\\Temp\\tmpn9penugo\n",
      "Error applying network policy: Command '['kubectl', 'apply', '-f', 'C:\\\\Users\\\\Reddy\\\\AppData\\\\Local\\\\Temp\\\\tmpn9penugo']' returned non-zero exit status 1.\n"
     ]
    }
   ],
   "source": [
    "import os\n",
    "import tempfile\n",
    "import yaml\n",
    "import subprocess\n",
    "\n",
    "def apply_network_policy(name, pod_selector_labels, ingress_labels, egress_labels, port):\n",
    "    # Define the network policy template\n",
    "    network_policy_template = {\n",
    "        \"apiVersion\": \"networking.k8s.io/v1\",\n",
    "        \"kind\": \"NetworkPolicy\",\n",
    "        \"metadata\": {\"name\": name},\n",
    "        \"spec\": {\n",
    "            \"podSelector\": {\"matchLabels\": pod_selector_labels},\n",
    "            \"ingress\": [\n",
    "                {\n",
    "                    \"from\": [\n",
    "                        {\"podSelector\": {\"matchLabels\": ingress_labels}},\n",
    "                        {\"podSelector\": {\"matchLabels\": {\"all\": \"allowed\"}}}\n",
    "                    ],\n",
    "                    \"ports\": [{\"protocol\": \"TCP\", \"port\": port}]\n",
    "                }\n",
    "            ],\n",
    "            \"egress\": [\n",
    "                {\n",
    "                    \"to\": [\n",
    "                        {\"podSelector\": {\"matchLabels\": egress_labels}},\n",
    "                        {\"podSelector\": {\"matchLabels\": {\"all\": \"allowed\"}}}\n",
    "                    ],\n",
    "                    \"ports\": [{\"protocol\": \"TCP\", \"port\": port}]\n",
    "                }\n",
    "            ]\n",
    "        }\n",
    "    }\n",
    "\n",
    "    # Create a temporary file to store the network policy YAML\n",
    "    with tempfile.NamedTemporaryFile(mode=\"w\", delete=False) as temp_file:\n",
    "        yaml.dump(network_policy_template, temp_file, default_flow_style=False)\n",
    "\n",
    "    # Get the path of the temporary file\n",
    "    temp_file_path = temp_file.name\n",
    "    print(temp_file.name)\n",
    "\n",
    "    try:\n",
    "        # Apply the network policy using kubectl apply\n",
    "        subprocess.run([\"kubectl\", \"apply\", \"-f\", temp_file_path], check=True)\n",
    "        print(f\"Network policy '{name}' applied successfully.\")\n",
    "    except subprocess.CalledProcessError as e:\n",
    "        print(f\"Error applying network policy: {e}\")\n",
    "    finally:\n",
    "        # Remove the temporary file\n",
    "        os.remove(temp_file_path)\n",
    "\n",
    "# Example usage:\n",
    "apply_network_policy(\n",
    "    name=\"sensor-data-policy\",\n",
    "    pod_selector_labels={\"sensor-data\": \"allowed\"},\n",
    "    ingress_labels={\"sensor-data\": \"allowed\"},\n",
    "    egress_labels={\"sensor-data\": \"allowed\"},\n",
    "    port=5002\n",
    ")\n"
   ]
  },
  {
   "cell_type": "code",
   "execution_count": null,
   "metadata": {},
   "outputs": [],
   "source": []
  }
 ],
 "metadata": {
  "kernelspec": {
   "display_name": "Python 3",
   "language": "python",
   "name": "python3"
  },
  "language_info": {
   "codemirror_mode": {
    "name": "ipython",
    "version": 3
   },
   "file_extension": ".py",
   "mimetype": "text/x-python",
   "name": "python",
   "nbconvert_exporter": "python",
   "pygments_lexer": "ipython3",
   "version": "3.11.3"
  },
  "orig_nbformat": 4
 },
 "nbformat": 4,
 "nbformat_minor": 2
}
